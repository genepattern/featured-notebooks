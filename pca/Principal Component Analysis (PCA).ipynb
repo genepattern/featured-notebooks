{
 "cells": [
  {
   "cell_type": "markdown",
   "metadata": {},
   "source": [
    "# Principal Component Analysis (PCA)\n",
    "\n",
    "Principal component analysis (PCA) is a method that reduces the dimensionality of a dataset while retaining most of its variation. It accomplishes this by identifying directions, called principal components, along which the variation in the data is maximal. By using a few components, each sample can be represented by relatively few numbers instead of by values for thousands of variables. Samples can then be plotted, making it possible to visually assess similarities and differences between samples and determine whether samples can be grouped.<sup><a href=\"#ref1\">1</a></sup>\n",
    "\n",
    "The image below<sup><a href=\"#ref2\">2</a></sup> illustrates the principal components of a 2-dimensional dataset. $u_{1}$, the direction of greatest variation, is the first principal component, and $u_{2}$, perpendicular to $u_{1}$, the direction of the second most variation, is the second principal component:"
   ]
  },
  {
   "cell_type": "markdown",
   "metadata": {},
   "source": [
    "<img src=\"http://datasets.genepattern.org/images/pca-vidal.png\">"
   ]
  },
  {
   "cell_type": "markdown",
   "metadata": {},
   "source": [
    "## 1. Requirements and considerations"
   ]
  },
  {
   "cell_type": "markdown",
   "metadata": {},
   "source": [
    "- **Input datasets**\n",
    "    - A dataset in the [GCT](https://www.genepattern.org/file-formats-guide#GCT) format. \n",
    "    - (Optional) A mapping of the samples in the dataset to classes in the [CLS](http://software.broadinstitute.org/cancer/software/genepattern/file-formats-guide#CLS) file format.\n",
    "    \n",
    "- **Output datasets**\n",
    "    - the **principal component matrix** of the dataset (*u matrix*). This is the original dataset transformed into the coordinates of the axes of the principal components (eigenvectors).\n",
    "    - the **principal component axes** (eigenvectors, *t matrix*). The first PC axis corresponds to the direction of greatest variation in the dataset. The following axes are the directions of each subsequent PC, in the order of decreasing variation explained.  \n",
    "    - the **variance explained matrix** (eigenvalues, *s matrix*): Each entry in this matrix represents the amount of variance explained by its corresponding principal component.\n",
    " "
   ]
  },
  {
   "cell_type": "markdown",
   "metadata": {},
   "source": [
    "## 2. Run PCA in GenePattern"
   ]
  },
  {
   "cell_type": "markdown",
   "metadata": {},
   "source": [
    "### 2.1 Sign in to GenePattern"
   ]
  },
  {
   "cell_type": "markdown",
   "metadata": {},
   "source": [
    "<div class=\"alert alert-info\">\n",
    "<h3 style=\"margin-top: 0;\"> Instructions <i class=\"fa fa-info-circle\"></i></h3>\n",
    "\n",
    "- If you haven&#39;t yet logged in, enter your credentials into the cell below and click Login.\n",
    "</div>"
   ]
  },
  {
   "cell_type": "code",
   "execution_count": null,
   "metadata": {
    "genepattern": {
     "name": "Login",
     "server": "https://cloud.genepattern.org/gp",
     "show_code": true,
     "type": "auth"
    },
    "scrolled": false
   },
   "outputs": [],
   "source": [
    "# Requires GenePattern Notebook: pip install genepattern-notebook\n",
    "import gp\n",
    "import genepattern\n",
    "\n",
    "# Username and password removed for security reasons.\n",
    "genepattern.display(genepattern.session.register(\"https://cloud.genepattern.org/gp\", \"\", \"\"))"
   ]
  },
  {
   "cell_type": "markdown",
   "metadata": {},
   "source": [
    "### 2.2. Run PCA in GenePattern to compute the principal components of the dataset"
   ]
  },
  {
   "cell_type": "markdown",
   "metadata": {},
   "source": [
    "<div class=\"alert alert-info\">\n",
    "<h3 style=\"margin-top: 0;\"> Instructions <i class=\"fa fa-info-circle\"></i></h3>\n",
    "\n",
    "In the cell below:\n",
    "- For **input dataset** upload or click and drag a file in GCT format. *Example*: [BRCA_HUGO_symbols.preprocessed.gct](https://datasets.genepattern.org/data/ccmi_tutorial/2017-12-15/BRCA_HUGO_symbols.preprocessed.gct),\n",
    "- For the **cluster by** parameter, select whether you want to compute the principal components of the rows or the columns. Usually, columns represent samples and rows represent features of each sample (e.g., genes).\n",
    "- Click **Run**.\n",
    "- **NOTE**: you may see a warning message regarding the use of Pandas. You can ignore this warning.\n",
    "\n",
    "</div>"
   ]
  },
  {
   "cell_type": "code",
   "execution_count": null,
   "metadata": {
    "genepattern": {
     "name": "Job #242516",
     "type": "job"
    },
    "nbtools": {
     "description": "Compute pcas, eigenvectors, and eigenvalues of a matrix in gct format",
     "name": "Compute Principal Components",
     "origin": "Notebook",
     "param_values": {
      "input_cls_filename": null,
      "input_cls_fname": [
       "https://datasets.genepattern.org/data/ccmi_tutorial/2017-12-15/BRCA_HUGO_symbols.preprocessed.cls"
      ],
      "input_gct_filename": null,
      "input_gct_fname": null,
      "output_var": "",
      "pca_axis": "3"
     },
     "show_code": false,
     "type": "uibuilder"
    },
    "scrolled": false
   },
   "outputs": [],
   "source": [
    "import re\n",
    "import time\n",
    "import numpy as np\n",
    "import pandas as pd\n",
    "import genepattern\n",
    "import gp\n",
    "import gp.data as gpdata\n",
    "import nbtools\n",
    "import matplotlib.pyplot as plt\n",
    "from matplotlib.ticker import FuncFormatter\n",
    "import plotly\n",
    "import plotly.graph_objs as go\n",
    "\n",
    "class PCAMetadata:\n",
    "    def __init__(self):\n",
    "        return\n",
    "    \n",
    "pca_metadata = PCAMetadata()\n",
    "\n",
    "@genepattern.build_ui(name=\"Compute Principal Components\", \n",
    "                      description=\"Compute pcas, eigenvectors, and eigenvalues of a matrix in gct format\", \n",
    "                      parameters={\n",
    "                        \"input_gct_fname\": {\"name\":\"input dataset\",\"type\": \"file\",\"kinds\" : [\"gct\"], \"optional\":False},\n",
    "                        \"pca_axis\": {\"name\":\"Compute PCs of\",\"type\":\"choice\",\"choices\":{\"rows\":1,\"columns\":3}, \"default\":3,\"optional\":False},\n",
    "                        \"output_var\": {\"hide\": True}\n",
    "                    })\n",
    "\n",
    "def compute_principal_components(input_gct_fname, pca_axis):\n",
    "    gct_fname = upload_input_file(input_gct_fname)\n",
    "    \n",
    "    pca_input_gct_df = gpdata.GCT(nbtools.open(gct_fname))\n",
    "    pca_input_gct_df.reset_index(level=\"Description\", inplace=True)\n",
    "    pca_input_gct_df.reset_index(level=\"Name\", inplace=True)\n",
    "\n",
    "    pca_axis_str = {1:\"rows\",3:\"columns\"}[pca_axis]\n",
    "    \n",
    "    pca_metadata.sample_names = list(pca_input_gct_df.columns[2:])\n",
    "    pca_metadata.feature_names = list(pca_input_gct_df[\"Name\"])\n",
    "    pca_metadata.feature_descriptions = list(pca_input_gct_df[\"Description\"])\n",
    "    pca_metadata.feature_annotations = [str(name) + \"\\n\" + str(desc) if name != desc else name \n",
    "                                        for (name,desc) in zip(pca_metadata.feature_names,pca_metadata.feature_descriptions)]\n",
    "    pca_metadata.pca_axis_str = pca_axis_str\n",
    "    \n",
    "    gpserver = genepattern.session.get(0)\n",
    "        \n",
    "    pca_module = gp.GPTask(gpserver, 'urn:lsid:broad.mit.edu:cancer.software.genepattern.module.analysis:00017')\n",
    "    pca_job_spec = pca_module.make_job_spec()\n",
    "    \n",
    "    if not is_url(input_gct_fname):\n",
    "        gp_server_file = gpserver.upload_file(gct_fname, gct_fname)\n",
    "        pca_job_spec.set_parameter(\"input.filename\", gp_server_file.get_url())\n",
    "    else:\n",
    "        pca_job_spec.set_parameter(\"input.filename\", input_gct_fname)\n",
    "\n",
    "    pca_job_spec.set_parameter(\"cluster.by\", pca_axis)\n",
    "    pca_job_spec.set_parameter(\"output.file\", \"<input.filename_basename>\")\n",
    "    \n",
    "    job = gpserver.run_job(pca_job_spec, False)\n",
    "    \n",
    "    uio = nbtools.UIOutput()\n",
    "    status_bar=['-','\\\\','|','/']\n",
    "    status_bar_pos = 0            \n",
    "    genepattern.display(uio)\n",
    "    while not job.is_finished():\n",
    "        uio.status=\"Status:\"+\"<br>\"+job.get_status_message()+'<br>'+status_bar[status_bar_pos]\n",
    "        status_bar_pos = (status_bar_pos + 1) % len(status_bar)\n",
    "        time.sleep(1)\n",
    "        \n",
    "    uio.close()\n",
    "    \n",
    "    file_list = [gct_fname]\n",
    "    for f in job.output_files:\n",
    "        file_list.append(f['link']['href'])\n",
    "    \n",
    "    uio = nbtools.UIOutput(files=file_list)\n",
    "    genepattern.display(uio)\n",
    "    \n",
    "def upload_input_file(input_filename):\n",
    "    if is_url(input_filename):\n",
    "        with nbtools.open(input_filename) as f_in:\n",
    "            input_file = f_in.read()\n",
    "\n",
    "        output_filename = get_filename_from_url(input_filename)\n",
    "\n",
    "        with open(output_filename, \"wb\") as f_out:\n",
    "            f_out.write(input_file)\n",
    "    else:\n",
    "        output_filename = input_filename\n",
    "    \n",
    "    return(output_filename)\n",
    "\n",
    "def get_filename_from_url(url):\n",
    "    filename = re.sub(\".*\\/\",\"\",url)\n",
    "    return(filename)\n",
    "\n",
    "def is_url(path_or_url):\n",
    "    \n",
    "    url_re = re.compile(\n",
    "            r'^(?:http|ftp)s?://'  # http:// or https://\n",
    "            r'(?:(?:[A-Z0-9](?:[A-Z0-9-]{0,61}[A-Z0-9])?\\.)+(?:[A-Z]{2,6}\\.?|[A-Z0-9-]{2,}\\.?)|'  # domain...\n",
    "            r'localhost|'  # localhost...\n",
    "            r'\\d{1,3}\\.\\d{1,3}\\.\\d{1,3}\\.\\d{1,3})'  # ...or ip\n",
    "            r'(?::\\d+)?'  # optional port\n",
    "            r'(?:/?|[/?]\\S+)$', re.IGNORECASE)\n",
    "\n",
    "    if re.match(url_re, path_or_url):\n",
    "        return(True)\n",
    "    else:\n",
    "        return(False)\n"
   ]
  },
  {
   "cell_type": "markdown",
   "metadata": {},
   "source": [
    "When the job completes, you will see a new panel above with the title **Python Results**. You will also see 4 file links. Here `<filename>` is the name of the input file without its extension:\n",
    "\n",
    "Filename | Description\n",
    ":------------ | :-------------\n",
    "`<filename>.gct` | the **input dataset** - the original dataset provided to the PCA analysis\n",
    "`<filename>_u.odf` | the **principal components (u matrix)** - the original dataset, transformed into the coordinate system of the eigenvectors\n",
    "`<filename>_t.odf` | the **eigenvectors (t matrix)** - the axes of the coordinate system oriented toward the directions of highest variability in the dataset\n",
    "`<filename>_s.odf` | the **eigenvalues (s matrix)** - each entry in this matrix contains the amount of variance explained by the corresponding principal component"
   ]
  },
  {
   "cell_type": "markdown",
   "metadata": {},
   "source": [
    "## 3. Visualize PCA results\n",
    "\n",
    "We will visualize the first 3 principal components of the dataset. These correspond to the 3 axes of highest variance in the dataset, and when combined with a class labeling, can be used to determine how well-separated different classes of data are in the space of the principal components."
   ]
  },
  {
   "cell_type": "markdown",
   "metadata": {},
   "source": [
    "<div class=\"alert alert-info\">\n",
    "<p class=\"lead\"> Instructions <i class=\"fa fa-info-circle\"></i></p>\n",
    "\n",
    "- Click **Run** in the cell below to load and initialize required packages\n",
    "</div>"
   ]
  },
  {
   "cell_type": "code",
   "execution_count": null,
   "metadata": {
    "nbtools": {
     "description": "Load requried libraries and initialize plotting packages",
     "name": "Load Required Libraries",
     "origin": "Notebook",
     "param_values": {
      "output_var": ""
     },
     "show_code": false,
     "type": "uibuilder"
    },
    "scrolled": true
   },
   "outputs": [],
   "source": [
    "# Allow embedding of plots in the output cell of the notebook\n",
    "#plotly.offline.init_notebook_mode() \n",
    "\n",
    "# Enable embedding matplotlib graphs in the notebook:\n",
    "%matplotlib inline\n",
    "\n",
    "@genepattern.build_ui(name=\"Load Required Libraries\", \n",
    "                      description=\"Load requried libraries and initialize plotting packages\", \n",
    "                      parameters={\n",
    "                        \"output_var\":{\"hide\":True}\n",
    "                    })\n",
    "\n",
    "def setup():\n",
    "    print(\"Libraries loaded\")\n",
    "    \n",
    "#\n",
    "# Convert GPFile object to Numpy array\n",
    "#\n",
    "\n",
    "def gp_matrix_odf_to_nparray(gp_file):\n",
    "    \n",
    "    # Get a reference to your session with the GP server\n",
    "    gpserver = genepattern.session.get(0)\n",
    "\n",
    "    # Create the GPFile object (using the right credentials)\n",
    "    fh = gp.GPFile(gpserver, gp_file)\n",
    "    \n",
    "    matrix_bytes = fh.read()\n",
    "\n",
    "    # Remove header lines\n",
    "    matrix_string = re.sub(\".*\\n\", '', matrix_bytes, count=5, flags=0)\n",
    "    matrix_string = re.sub(\"\\t\\n\", '\\n', matrix_string, count=0, flags=0)\n",
    "\n",
    "    # The final split leaves an extra line, which must be removed\n",
    "    matrix_list = matrix_string.split('\\n')\n",
    "    matrix_list.pop(len(matrix_list)-1)\n",
    "\n",
    "    matrix_2dlist = [row.split('\\t') for row in matrix_list]\n",
    "\n",
    "    # Populate the new array with contents of the list:\n",
    "    matrix_array = np.empty(shape=(len(matrix_2dlist),len(matrix_2dlist[0])))\n",
    " \n",
    "    for r in range(len(matrix_2dlist)):\n",
    "        for c in range(len(matrix_2dlist[0])):\n",
    "            matrix_array[r][c] = matrix_2dlist[r][c]\n",
    "            \n",
    "    return(matrix_array)\n"
   ]
  },
  {
   "cell_type": "markdown",
   "metadata": {},
   "source": [
    "###  3.1. Display scatter plot of first 3 principal components"
   ]
  },
  {
   "cell_type": "markdown",
   "metadata": {},
   "source": [
    "<div class=\"alert alert-info\">\n",
    "<h3 style=\"margin-top: 0;\"> Instructions <i class=\"fa fa-info-circle\"></i></h3>\n",
    "\n",
    " In the cell below:\n",
    "- Click the down arrow on the **gp u matrix file** parameter and select the file with the `_u.odf` suffix.\n",
    "- (Optional) Upload or click and drag the file containing the phenotype descriptions to the **cls file url** parameter below. *Example*: [BRCA_HUGO_symbols.preprocessed.cls](https://datasets.genepattern.org/data/ccmi_tutorial/2017-12-15/BRCA_HUGO_symbols.preprocessed.cls)\n",
    "- (Optional) add a title for the principal components graph into the **plot title** input. *Example*: `TCGA Breast Cancer vs. Normal`\n",
    "- After clicking **Run**, you will see a 3D scatter plot of the first 3 principal components of the dataset. To explore the dataset:\n",
    "    - Click and drag to rotate left, right, up, or down\n",
    "    - Scroll to zoom in and out\n",
    "    - Hover over a point to see its data value.\n",
    "    - Hover over the upper right hand side of the graph to see additional options such as image export.\n",
    "</div>"
   ]
  },
  {
   "cell_type": "code",
   "execution_count": null,
   "metadata": {
    "nbtools": {
     "description": "Read PCA result files and class assignments into Python variables",
     "name": "Plot Principal Components",
     "origin": "Notebook",
     "param_values": {
      "chart_title": "Principal Components Chart",
      "cls_file_input": [
       "/user/mmrtest5/notebooks/notebooks/pca/BRCA_HUGO_symbols.preprocessed.cls"
      ],
      "gp_s_matrix_file": "",
      "gp_u_matrix_file": null,
      "input_cls_file": "",
      "input_cls_fname": null,
      "output_var": "pca_data",
      "plot_title": "Principal Components"
     },
     "show_code": false,
     "type": "uibuilder"
    },
    "scrolled": false
   },
   "outputs": [],
   "source": [
    "@genepattern.build_ui(name=\"Plot Principal Components\", \n",
    "                      description=\"Read PCA result files and class assignments into Python variables\", \n",
    "                      parameters={\n",
    "                        \"gp_u_matrix_file\":{\"type\": \"file\", \"kinds\": [\"_u.odf\"]},\n",
    "                        \"input_cls_fname\": {\"name\":\"input class file\",\"type\": \"file\",\"kinds\" : [\"cls\"], \"default\":\"\",\"optional\":True},\n",
    "                        \"plot_title\":{\"type\":\"string\", \"default\":\"Principal Components\", \"optional\":True},\n",
    "                        \"output_var\": {\"default\":\"pca_data\", \"hide\": True}\n",
    "                    })\n",
    "\n",
    "def plot_principal_components(gp_u_matrix_file, input_cls_fname, plot_title):\n",
    "    \n",
    "    if (len(input_cls_fname) != 0):\n",
    "        cls_fname = upload_input_file(input_cls_fname)\n",
    "        cls_info = gpdata.CLS(cls_fname)\n",
    "        pca_metadata.class_assignments = cls_info.class_assignments\n",
    "        pca_metadata.class_names = cls_info.class_names\n",
    "        pca_metadata.num_classes = cls_info.num_classes\n",
    "    else:\n",
    "        pca_metadata.class_names=[]\n",
    "        pca_metadata.num_classes=1\n",
    "        pca_metadata.class_assignments=[]\n",
    "\n",
    "    (sample_names, feature_annotations, pca_axis_str, num_classes, class_assignments, class_names) = (pca_metadata.sample_names,\n",
    "                                                     pca_metadata.feature_annotations,\n",
    "                                                     pca_metadata.pca_axis_str,\n",
    "                                                     pca_metadata.num_classes,\n",
    "                                                     pca_metadata.class_assignments,\n",
    "                                                     pca_metadata.class_names)\n",
    "\n",
    "    u_matrix = gp_matrix_odf_to_nparray(gp_u_matrix_file)\n",
    "\n",
    "    # The principal components are the transpose of the u matrix:\n",
    "    pc = u_matrix.transpose()\n",
    "    \n",
    "    # Create color map for up to 23 classes, corresponding to the rainbow_discrete colormap\n",
    "    # adapted from Python code available at https://personal.sron.nl/~pault/\n",
    "    \n",
    "    clrs = ['#E8ECFB', '#D9CCE3', '#D1BBD7', '#CAACCB', '#BA8DB4', '#AE76A3',\n",
    "            '#AA6F9E', '#994F88', '#882E72', '#1965B0',  '#437DBF', '#5289C7',\n",
    "            '#6195CF', '#7BAFDE', '#4EB265', '#90C987', '#CAE0AB', '#F7F056',\n",
    "            '#F7CB45', '#F6C141', '#F4A736', '#F1932D', '#EE8026', '#E8601C',\n",
    "            '#E65518','#DC050C', '#A5170E', '#72190E', '#42150A']\n",
    "\n",
    "    indexes = [[9],\n",
    "               [9, 25], \n",
    "               [9, 17, 25], \n",
    "               [9, 14, 17, 25], \n",
    "               [9, 13, 14, 17, 25], \n",
    "               [9, 13, 14, 16, 17, 25], \n",
    "               [8, 9, 13, 14, 16, 17, 25], \n",
    "               [8, 9, 13, 14, 16, 17, 22, 25],\n",
    "               [8, 9, 13, 14, 16, 17, 22, 25, 27],\n",
    "               [8, 9, 13, 14, 16, 17, 20, 23, 25, 27],\n",
    "               [8, 9, 11, 13, 14, 16, 17, 20, 23, 25, 27],\n",
    "               [2, 5, 8, 9, 11, 13, 14, 16, 17, 20, 23, 25],\n",
    "               [2, 5, 8, 9, 11, 13, 14, 15, 16, 17, 20, 23, 25],\n",
    "               [2, 5, 8, 9, 11, 13, 14, 15, 16, 17, 19, 21, 23, 25],\n",
    "               [2, 5, 8, 9, 11, 13, 14, 15, 16, 17, 19, 21, 23, 25, 27],\n",
    "               [2, 4, 6, 8, 9, 11, 13, 14, 15, 16, 17, 19, 21, 23, 25, 27],\n",
    "               [2, 4, 6, 7, 8, 9, 11, 13, 14, 15, 16, 17, 19, 21, 23, 25, 27],\n",
    "               [2, 4, 6, 7, 8, 9, 11, 13, 14, 15, 16, 17, 19, 21, 23, 25, 26, 27],\n",
    "               [1, 3, 4, 6, 7, 8, 9, 11, 13, 14, 15, 16, 17, 19, 21, 23, 25, 26, 27],\n",
    "               [1, 3, 4, 6, 7, 8, 9, 10, 12, 13, 14, 15, 16, 17, 19, 21, 23, 25, 26, 27],\n",
    "               [1, 3, 4, 6, 7, 8, 9, 10, 12, 13, 14, 15, 16, 17, 18, 20, 22, 24, 25, 26, 27],\n",
    "               [1, 3, 4, 6, 7, 8, 9, 10, 12, 13, 14, 15, 16, 17, 18, 20, 22, 24, 25, 26, 27, 28],\n",
    "               [0, 1, 3, 4, 6, 7, 8, 9, 10, 12, 13, 14, 15, 16, 17, 18, 20, 22, 24, 25, 26, 27, 28]]\n",
    "\n",
    "    data=[]\n",
    "    traces=[]\n",
    "    label_list = sample_names if pca_axis_str == 'columns' else feature_annotations\n",
    "\n",
    "    #\n",
    "    # If a cls file is provided, obtain the colormap for the given number of classes.\n",
    "    # Otherwise, use the color in the 1-class colormap:\n",
    "    #\n",
    "    \n",
    "    if num_classes > 1:\n",
    "       # Determine appropriate map for the given number of classes:\n",
    "        colormap = [clrs[i] for i in indexes[num_classes-1]]\n",
    "        colors = [colormap[class_assignments[i]] for i in range(len(class_assignments))]\n",
    "        \n",
    "        for j in range(num_classes):\n",
    "            traces.append(go.Scatter3d(\n",
    "            x=[i for indx,i in enumerate(pc[0]) if class_assignments[indx] == j],\n",
    "            y=[i for indx,i in enumerate(pc[1]) if class_assignments[indx] == j],\n",
    "            z=[i for indx,i in enumerate(pc[2]) if class_assignments[indx] == j],\n",
    "            text = [i for indx,i in enumerate(label_list) if class_assignments[indx]==j],\n",
    "            mode='markers',\n",
    "            name=class_names[j],\n",
    "            marker=go.scatter3d.Marker(size=10,color=colormap[j])))\n",
    "            data.append(traces[j])\n",
    "    else:\n",
    "        colormap = [clrs[indexes[0][0]]]\n",
    "        colors = [colormap[0] for i in range(len(pc[0]))]\n",
    "    \n",
    "        traces.append(go.Scatter3d(\n",
    "        x=pc[0],\n",
    "        y=pc[1],\n",
    "        z=pc[2],\n",
    "        mode='markers',\n",
    "        text = label_list,\n",
    "        marker=go.scatter3d.Marker(size=10,color=colormap[0])))\n",
    "        data.append(traces[0])\n",
    "\n",
    "    layout=go.Layout(dict(title=plot_title,\n",
    "                scene=dict(xaxis=dict(title=\"PC 1\",visible=True),\n",
    "                yaxis=dict(title=\"PC 2\",visible=True),\n",
    "                zaxis=dict(title=\"PC 3\",visible=True))\n",
    "                )\n",
    "    )\n",
    "\n",
    "    fig=dict(data=traces, layout=layout)\n",
    "    plotly.offline.iplot(fig)\n",
    "    \n",
    "    return(pc)\n"
   ]
  },
  {
   "cell_type": "markdown",
   "metadata": {},
   "source": [
    "### 3.2. Display percentage of variance explained for each principal component"
   ]
  },
  {
   "cell_type": "markdown",
   "metadata": {},
   "source": [
    "The **variance explained** graph provides an idea of how many principal components are required to represent the majority of the dataset. You can use this to select the number of principal components to use to represent your data."
   ]
  },
  {
   "cell_type": "markdown",
   "metadata": {},
   "source": [
    "<div class=\"alert alert-info\">\n",
    "<h3 style=\"margin-top: 0;\"> Instructions <i class=\"fa fa-info-circle\"></i></h3>\n",
    "    \n",
    "- For the **eigenvalues file**, click the down arrow in the input box and select the file with the `_s.odf` suffix.\n",
    "- After clicking **Run**, you will see plots of **variance explained** and **cumulative variance explained**:\n",
    "    - The bar chart represents the variance explained for each principal component.\n",
    "    - The line graph shows the cumulative variance explained.\n",
    "</div>"
   ]
  },
  {
   "cell_type": "code",
   "execution_count": null,
   "metadata": {
    "nbtools": {
     "description": "Plot variance of each principal component",
     "name": "Plot Variance Explained",
     "origin": "Notebook",
     "param_values": {
      "eigenvalues_file": [],
      "gp_s_matrix_file": [
       "https://cloud.genepattern.org/gp/jobResults/223550/BRCA_HUGO_symbols.preprocessed_s.odf"
      ],
      "output_var": ""
     },
     "show_code": false,
     "type": "uibuilder"
    },
    "scrolled": false
   },
   "outputs": [],
   "source": [
    "@genepattern.build_ui(name=\"Plot Variance Explained\", \n",
    "                      description=\"Plot variance of each principal component\", \n",
    "                      parameters={\n",
    "                          \"eigenvalues_file\":{\"type\": \"file\", \"kinds\": [\"_s.odf\"]},\n",
    "                          \"output_var\": {\"hide\": True}\n",
    "                    })\n",
    "\n",
    "def plot_variance_explained(eigenvalues_file):\n",
    "    \n",
    "    s_matrix = gp_matrix_odf_to_nparray(eigenvalues_file)\n",
    "        \n",
    "    # Convert eigenvalues from an array to a list\n",
    "    # The eigenvalue matrix only has entries on the diagonal. Extract these into a list to facilitate processing:\n",
    "    evalues = [s_matrix[x][x] for x in range(len(s_matrix))]\n",
    "    \n",
    "    # Compute percentage contribution of each eigenvector\n",
    "    ev_total = sum(evalues)\n",
    "    ev_percents = evalues/ev_total\n",
    "\n",
    "    bar_offset_x = -0.25\n",
    "    bar_offset_y = 0.01\n",
    "    plt.figure(figsize=(15,10))\n",
    "    plt.clf()\n",
    "\n",
    "    x_ticks = [str(i+1) for i in range(len(ev_percents))]\n",
    "\n",
    "    #\n",
    "    # Plot the variance explained of each PC:\n",
    "    #\n",
    "    \n",
    "    plt.title(\"Variance Explained Per Principal Component\")\n",
    "    plt.xlabel(\"Principal Component\")\n",
    "    plt.ylabel(\"Variance Explained\")\n",
    "\n",
    "    plt.bar(x_ticks, ev_percents, 0.8)\n",
    "    for i in range(len(ev_percents)):\n",
    "        plt.text(i + bar_offset_x, ev_percents[i]+ bar_offset_y, pct_format(ev_percents[i]))\n",
    "\n",
    "\n",
    "    #\n",
    "    # Plot cumulative variance explained:\n",
    "    #\n",
    "\n",
    "    cum_total = [sum(ev_percents[0:i+1]) for i in range(len(ev_percents))]\n",
    "    plt.plot(x_ticks, cum_total, \"go-\")\n",
    "    for i in range(len(cum_total)):\n",
    "        plt.text(i + bar_offset_x, cum_total[i]+ bar_offset_y, pct_format(cum_total[i]))\n",
    "        \n",
    "    plt.legend([\"Cumulative total variance\",\"Variance explained per PC\"],loc='best')\n",
    " \n",
    "    plt.show()\n",
    "    return\n",
    "\n",
    "def pct_format(val):\n",
    "    res = str(int(val * 100))\n",
    "    return(res)\n"
   ]
  },
  {
   "cell_type": "markdown",
   "metadata": {},
   "source": [
    "## 4. Export principal components"
   ]
  },
  {
   "cell_type": "markdown",
   "metadata": {},
   "source": [
    "To use the principal components in further analyses, you can export the dataset."
   ]
  },
  {
   "cell_type": "markdown",
   "metadata": {},
   "source": [
    "<div class=\"alert alert-info\">\n",
    "<p class=\"lead\"> Instructions <i class=\"fa fa-info-circle\"></i></p>\n",
    "\n",
    "- **Number of pcs**: enter the number of principal components in the dataset to export\n",
    "- **File type**: select the format of the output dataset. If you want to run additional GenePattern analyses on the principal components, select GCT. If you want to run analyses in other tools, select TXT.\n",
    "- **File name**: enter an output file name or use the default\n",
    "- Click **Run**\n",
    "- You will see a panel containing a link to the exported file. Click the <i class=\"fa fa-info-circle\"></i> next to the filename to view the options available for the file.\n",
    "</div>"
   ]
  },
  {
   "cell_type": "code",
   "execution_count": null,
   "metadata": {
    "nbtools": {
     "description": "Save the PCA dataset",
     "name": "Export PCA dataset",
     "origin": "Notebook",
     "param_values": {
      "file_name": "pca_output",
      "file_type": "gct",
      "num_pcs": "3",
      "num_pcs_str": "7",
      "number_of_pcs": "10",
      "output_var": ""
     },
     "show_code": false,
     "type": "uibuilder"
    },
    "scrolled": false
   },
   "outputs": [],
   "source": [
    "@genepattern.build_ui(name=\"Export PCA dataset\", \n",
    "                      description=\"Save the PCA dataset\", \n",
    "                      parameters={\n",
    "                        \"num_pcs\": {\"name\":\"Number of PCs\",\"type\": \"string\", \"default\":\"3\", \"optional\":False},\n",
    "                        \"file_name\":{\"type\": \"string\", \"default\":\"pca_output\",\"optional\":False},\n",
    "                        \"file_type\":{\"type\": \"choice\", \"optional\":False,\n",
    "                                    \"choices\":{\"GCT\":\"gct\",\n",
    "                                               \"TXT (tab-delimited)\":\"txt\"\n",
    "                                              },\n",
    "                                    \"default\":\"gct\"},\n",
    "                        \"output_var\": {\"hide\": True}\n",
    "                    })\n",
    "\n",
    "def export_pca_dataset(num_pcs, file_name, file_type):\n",
    "    pcs = pca_data\n",
    "    num_rows = len(pcs[0])\n",
    "    num_pcs_re = re.compile(\"^[1-9][0-9]*$\")\n",
    "    \n",
    "    num_pcs_match = re.match(num_pcs_re, str(num_pcs))\n",
    "    if not num_pcs_match:\n",
    "        raise ValueError(\"Number of PCs parameter must be a positive integer\")\n",
    "    \n",
    "    num_cols = num_pcs if num_pcs <= len(pcs) else len(pcs)\n",
    "    \n",
    "    if not((file_name).endswith(\".gct\") or (file_name).endswith(\".txt\")):\n",
    "        file_name += \".\"+file_type\n",
    "    \n",
    "    out_f = open(file_name, \"w\")\n",
    "\n",
    "    if file_type == \"gct\":\n",
    "        out_f.write(\"#1.2\\n\")\n",
    "        out_f.write(str(num_rows)+\"\\t\"+str(num_cols)+\"\\n\")\n",
    "        name_line = \"Name\\tDescription\"+\"\\t\"+\"\\t\".join([\"pc_\"+ str(i+1) for i in range(num_cols)])+\"\\n\"\n",
    "        out_f.write(name_line)\n",
    "        \n",
    "    feature_names = pca_metadata.sample_names if pca_metadata.pca_axis_str == \"columns\" else pca_metadata.feature_names\n",
    "    feature_descriptions = pca_metadata.sample_names if pca_metadata.pca_axis_str == \"columns\" else pca_metadata.feature_descriptions\n",
    "\n",
    "    for line in range(num_rows):\n",
    "        if(file_type == \"gct\"):\n",
    "            out_f.write(feature_names[line]+\"\\t\"+feature_descriptions[line]+\"\\t\")\n",
    "        value_list = \"\\t\".join([str(pcs[line][i]) for i in range(num_cols)])\n",
    "        out_f.write(value_list)\n",
    "        out_f.write(\"\\n\")\n",
    "    out_f.close()\n",
    "\n",
    "    uio = nbtools.UIOutput(files=[file_name])\n",
    "    genepattern.display(uio)\n"
   ]
  },
  {
   "cell_type": "markdown",
   "metadata": {},
   "source": [
    "## References\n",
    "\n",
    "<a name=\"ref1\">1</a>. Ringnér, M. What is principal component analysis?. _Nat Biotechnol_ **26**, 303–304 (2008). https://doi.org/10.1038/nbt0308-303\n",
    "\n",
    "<a name=\"ref2\">2</a>. Vidal, Rene, Yi Ma, and Shankar Sastry. \"Generalized principal component analysis (GPCA).\" _IEEE transactions on pattern analysis and machine intelligence_ 27.12 (2005): 1945-1959. https://doi.org/10.1109/tpami.2005.244"
   ]
  }
 ],
 "metadata": {
  "genepattern": {
   "repository_url": "http://notebook.genepattern.org/services/sharing/notebooks/403/"
  },
  "kernelspec": {
   "display_name": "Python 3.8",
   "language": "python",
   "name": "python3.8"
  },
  "language_info": {
   "codemirror_mode": {
    "name": "ipython",
    "version": 3
   },
   "file_extension": ".py",
   "mimetype": "text/x-python",
   "name": "python",
   "nbconvert_exporter": "python",
   "pygments_lexer": "ipython3",
   "version": "3.8.6"
  },
  "toc": {
   "base_numbering": 1,
   "nav_menu": {},
   "number_sections": false,
   "sideBar": true,
   "skip_h1_title": false,
   "title_cell": "Table of Contents",
   "title_sidebar": "Contents",
   "toc_cell": false,
   "toc_position": {},
   "toc_section_display": true,
   "toc_window_display": false
  }
 },
 "nbformat": 4,
 "nbformat_minor": 2
}
